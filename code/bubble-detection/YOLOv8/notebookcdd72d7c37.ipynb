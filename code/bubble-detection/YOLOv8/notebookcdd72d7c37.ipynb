{
 "cells": [
  {
   "cell_type": "code",
   "execution_count": 1,
   "id": "017d83c0-06e8-4fbc-abf5-8a12ef14ba51",
   "metadata": {
    "execution": {
     "iopub.execute_input": "2025-10-05T15:22:36.059683Z",
     "iopub.status.busy": "2025-10-05T15:22:36.058922Z",
     "iopub.status.idle": "2025-10-05T15:22:39.289692Z",
     "shell.execute_reply": "2025-10-05T15:22:39.288643Z",
     "shell.execute_reply.started": "2025-10-05T15:22:36.059657Z"
    },
    "trusted": true
   },
   "outputs": [
    {
     "name": "stdout",
     "output_type": "stream",
     "text": [
      "\u001b[2K   \u001b[90m━━━━━━━━━━━━━━━━━━━━━━━━━━━━━━━━━━━━━━━━\u001b[0m \u001b[32m1.1/1.1 MB\u001b[0m \u001b[31m19.1 MB/s\u001b[0m eta \u001b[36m0:00:00\u001b[0ma \u001b[36m0:00:01\u001b[0m\n",
      "\u001b[2K   \u001b[90m━━━━━━━━━━━━━━━━━━━━━━━━━━━━━━━━━━━━━━━━\u001b[0m \u001b[32m363.4/363.4 MB\u001b[0m \u001b[31m4.7 MB/s\u001b[0m eta \u001b[36m0:00:00\u001b[0m:00:01\u001b[0m00:01\u001b[0m\n",
      "\u001b[2K   \u001b[90m━━━━━━━━━━━━━━━━━━━━━━━━━━━━━━━━━━━━━━━━\u001b[0m \u001b[32m13.8/13.8 MB\u001b[0m \u001b[31m93.5 MB/s\u001b[0m eta \u001b[36m0:00:00\u001b[0m:00:01\u001b[0m0:01\u001b[0m\n",
      "\u001b[2K   \u001b[90m━━━━━━━━━━━━━━━━━━━━━━━━━━━━━━━━━━━━━━━━\u001b[0m \u001b[32m24.6/24.6 MB\u001b[0m \u001b[31m67.5 MB/s\u001b[0m eta \u001b[36m0:00:00\u001b[0m:00:01\u001b[0m00:01\u001b[0m\n",
      "\u001b[2K   \u001b[90m━━━━━━━━━━━━━━━━━━━━━━━━━━━━━━━━━━━━━━━━\u001b[0m \u001b[32m883.7/883.7 kB\u001b[0m \u001b[31m49.6 MB/s\u001b[0m eta \u001b[36m0:00:00\u001b[0m\n",
      "\u001b[2K   \u001b[90m━━━━━━━━━━━━━━━━━━━━━━━━━━━━━━━━━━━━━━━━\u001b[0m \u001b[32m664.8/664.8 MB\u001b[0m \u001b[31m2.6 MB/s\u001b[0m eta \u001b[36m0:00:00\u001b[0m:00:01\u001b[0m00:01\u001b[0m\n",
      "\u001b[2K   \u001b[90m━━━━━━━━━━━━━━━━━━━━━━━━━━━━━━━━━━━━━━━━\u001b[0m \u001b[32m211.5/211.5 MB\u001b[0m \u001b[31m6.7 MB/s\u001b[0m eta \u001b[36m0:00:00\u001b[0m:00:01\u001b[0m00:01\u001b[0m\n",
      "\u001b[2K   \u001b[90m━━━━━━━━━━━━━━━━━━━━━━━━━━━━━━━━━━━━━━━━\u001b[0m \u001b[32m56.3/56.3 MB\u001b[0m \u001b[31m13.1 MB/s\u001b[0m eta \u001b[36m0:00:00\u001b[0m:00:01\u001b[0m00:01\u001b[0m\n",
      "\u001b[2K   \u001b[90m━━━━━━━━━━━━━━━━━━━━━━━━━━━━━━━━━━━━━━━━\u001b[0m \u001b[32m127.9/127.9 MB\u001b[0m \u001b[31m13.5 MB/s\u001b[0m eta \u001b[36m0:00:00\u001b[0m00:01\u001b[0m00:01\u001b[0m\n",
      "\u001b[2K   \u001b[90m━━━━━━━━━━━━━━━━━━━━━━━━━━━━━━━━━━━━━━━━\u001b[0m \u001b[32m207.5/207.5 MB\u001b[0m \u001b[31m8.3 MB/s\u001b[0m eta \u001b[36m0:00:00\u001b[0m:00:01\u001b[0m00:01\u001b[0m\n",
      "\u001b[2K   \u001b[90m━━━━━━━━━━━━━━━━━━━━━━━━━━━━━━━━━━━━━━━━\u001b[0m \u001b[32m21.1/21.1 MB\u001b[0m \u001b[31m74.6 MB/s\u001b[0m eta \u001b[36m0:00:00\u001b[0m:00:01\u001b[0m00:01\u001b[0m\n",
      "\u001b[?25hCreating new Ultralytics Settings v0.0.6 file ✅ \n",
      "View Ultralytics Settings with 'yolo settings' or at '/root/.config/Ultralytics/settings.json'\n",
      "Update Settings with 'yolo settings key=value', i.e. 'yolo settings runs_dir=path/to/dir'. For help see https://docs.ultralytics.com/quickstart/#ultralytics-settings.\n"
     ]
    }
   ],
   "source": [
    "!pip install --quiet ultralytics opencv-python matplotlib\n",
    "\n",
    "from ultralytics import YOLO"
   ]
  },
  {
   "cell_type": "code",
   "execution_count": 2,
   "id": "3b74eeb8-8a12-47a7-a38b-5ae0da0d8c93",
   "metadata": {
    "execution": {
     "iopub.execute_input": "2025-10-05T15:22:39.291475Z",
     "iopub.status.busy": "2025-10-05T15:22:39.291177Z",
     "iopub.status.idle": "2025-10-05T15:22:39.295679Z",
     "shell.execute_reply": "2025-10-05T15:22:39.295055Z",
     "shell.execute_reply.started": "2025-10-05T15:22:39.291445Z"
    },
    "trusted": true
   },
   "outputs": [],
   "source": [
    "import json, random, shutil\n",
    "from pathlib import Path\n",
    "import numpy as np\n",
    "import matplotlib.pyplot as plt\n",
    "import cv2"
   ]
  },
  {
   "cell_type": "code",
   "execution_count": 3,
   "id": "cd6e5b6e-0c16-4a72-902b-18c3e719fba9",
   "metadata": {
    "execution": {
     "iopub.execute_input": "2025-10-05T15:22:39.296611Z",
     "iopub.status.busy": "2025-10-05T15:22:39.296367Z",
     "iopub.status.idle": "2025-10-05T15:22:42.424393Z",
     "shell.execute_reply": "2025-10-05T15:22:42.423647Z",
     "shell.execute_reply.started": "2025-10-05T15:22:39.296595Z"
    },
    "trusted": true
   },
   "outputs": [
    {
     "name": "stdout",
     "output_type": "stream",
     "text": [
      "Looking in indexes: https://download.pytorch.org/whl/cu121\n",
      "Requirement already satisfied: torch in /usr/local/lib/python3.11/dist-packages (2.6.0+cu124)\n",
      "Requirement already satisfied: torchvision in /usr/local/lib/python3.11/dist-packages (0.21.0+cu124)\n",
      "Requirement already satisfied: torchaudio in /usr/local/lib/python3.11/dist-packages (2.6.0+cu124)\n",
      "Requirement already satisfied: filelock in /usr/local/lib/python3.11/dist-packages (from torch) (3.18.0)\n",
      "Requirement already satisfied: typing-extensions>=4.10.0 in /usr/local/lib/python3.11/dist-packages (from torch) (4.14.0)\n",
      "Requirement already satisfied: networkx in /usr/local/lib/python3.11/dist-packages (from torch) (3.5)\n",
      "Requirement already satisfied: jinja2 in /usr/local/lib/python3.11/dist-packages (from torch) (3.1.6)\n",
      "Requirement already satisfied: fsspec in /usr/local/lib/python3.11/dist-packages (from torch) (2025.5.1)\n",
      "Requirement already satisfied: nvidia-cuda-nvrtc-cu12==12.4.127 in /usr/local/lib/python3.11/dist-packages (from torch) (12.4.127)\n",
      "Requirement already satisfied: nvidia-cuda-runtime-cu12==12.4.127 in /usr/local/lib/python3.11/dist-packages (from torch) (12.4.127)\n",
      "Requirement already satisfied: nvidia-cuda-cupti-cu12==12.4.127 in /usr/local/lib/python3.11/dist-packages (from torch) (12.4.127)\n",
      "Requirement already satisfied: nvidia-cudnn-cu12==9.1.0.70 in /usr/local/lib/python3.11/dist-packages (from torch) (9.1.0.70)\n",
      "Requirement already satisfied: nvidia-cublas-cu12==12.4.5.8 in /usr/local/lib/python3.11/dist-packages (from torch) (12.4.5.8)\n",
      "Requirement already satisfied: nvidia-cufft-cu12==11.2.1.3 in /usr/local/lib/python3.11/dist-packages (from torch) (11.2.1.3)\n",
      "Requirement already satisfied: nvidia-curand-cu12==10.3.5.147 in /usr/local/lib/python3.11/dist-packages (from torch) (10.3.5.147)\n",
      "Requirement already satisfied: nvidia-cusolver-cu12==11.6.1.9 in /usr/local/lib/python3.11/dist-packages (from torch) (11.6.1.9)\n",
      "Requirement already satisfied: nvidia-cusparse-cu12==12.3.1.170 in /usr/local/lib/python3.11/dist-packages (from torch) (12.3.1.170)\n",
      "Requirement already satisfied: nvidia-cusparselt-cu12==0.6.2 in /usr/local/lib/python3.11/dist-packages (from torch) (0.6.2)\n",
      "Requirement already satisfied: nvidia-nccl-cu12==2.21.5 in /usr/local/lib/python3.11/dist-packages (from torch) (2.21.5)\n",
      "Requirement already satisfied: nvidia-nvtx-cu12==12.4.127 in /usr/local/lib/python3.11/dist-packages (from torch) (12.4.127)\n",
      "Requirement already satisfied: nvidia-nvjitlink-cu12==12.4.127 in /usr/local/lib/python3.11/dist-packages (from torch) (12.4.127)\n",
      "Requirement already satisfied: triton==3.2.0 in /usr/local/lib/python3.11/dist-packages (from torch) (3.2.0)\n",
      "Requirement already satisfied: sympy==1.13.1 in /usr/local/lib/python3.11/dist-packages (from torch) (1.13.1)\n",
      "Requirement already satisfied: mpmath<1.4,>=1.1.0 in /usr/local/lib/python3.11/dist-packages (from sympy==1.13.1->torch) (1.3.0)\n",
      "Requirement already satisfied: numpy in /usr/local/lib/python3.11/dist-packages (from torchvision) (1.26.4)\n",
      "Requirement already satisfied: pillow!=8.3.*,>=5.3.0 in /usr/local/lib/python3.11/dist-packages (from torchvision) (11.2.1)\n",
      "Requirement already satisfied: MarkupSafe>=2.0 in /usr/local/lib/python3.11/dist-packages (from jinja2->torch) (3.0.2)\n",
      "Requirement already satisfied: mkl_fft in /usr/local/lib/python3.11/dist-packages (from numpy->torchvision) (1.3.8)\n",
      "Requirement already satisfied: mkl_random in /usr/local/lib/python3.11/dist-packages (from numpy->torchvision) (1.2.4)\n",
      "Requirement already satisfied: mkl_umath in /usr/local/lib/python3.11/dist-packages (from numpy->torchvision) (0.1.1)\n",
      "Requirement already satisfied: mkl in /usr/local/lib/python3.11/dist-packages (from numpy->torchvision) (2025.2.0)\n",
      "Requirement already satisfied: tbb4py in /usr/local/lib/python3.11/dist-packages (from numpy->torchvision) (2022.2.0)\n",
      "Requirement already satisfied: mkl-service in /usr/local/lib/python3.11/dist-packages (from numpy->torchvision) (2.4.1)\n",
      "Requirement already satisfied: intel-openmp<2026,>=2024 in /usr/local/lib/python3.11/dist-packages (from mkl->numpy->torchvision) (2024.2.0)\n",
      "Requirement already satisfied: tbb==2022.* in /usr/local/lib/python3.11/dist-packages (from mkl->numpy->torchvision) (2022.2.0)\n",
      "Requirement already satisfied: tcmlib==1.* in /usr/local/lib/python3.11/dist-packages (from tbb==2022.*->mkl->numpy->torchvision) (1.4.0)\n",
      "Requirement already satisfied: intel-cmplr-lib-rt in /usr/local/lib/python3.11/dist-packages (from mkl_umath->numpy->torchvision) (2024.2.0)\n",
      "Requirement already satisfied: intel-cmplr-lib-ur==2024.2.0 in /usr/local/lib/python3.11/dist-packages (from intel-openmp<2026,>=2024->mkl->numpy->torchvision) (2024.2.0)\n"
     ]
    }
   ],
   "source": [
    "!pip install torch torchvision torchaudio --index-url https://download.pytorch.org/whl/cu121\n"
   ]
  },
  {
   "cell_type": "code",
   "execution_count": 4,
   "id": "c52affa0-3df8-4a64-94d1-dd31289e4e6a",
   "metadata": {
    "execution": {
     "iopub.execute_input": "2025-10-05T15:22:42.426396Z",
     "iopub.status.busy": "2025-10-05T15:22:42.426113Z",
     "iopub.status.idle": "2025-10-05T15:22:42.431498Z",
     "shell.execute_reply": "2025-10-05T15:22:42.430844Z",
     "shell.execute_reply.started": "2025-10-05T15:22:42.426365Z"
    },
    "trusted": true
   },
   "outputs": [
    {
     "name": "stdout",
     "output_type": "stream",
     "text": [
      "GPU available: True\n",
      "GPU name: Tesla T4\n"
     ]
    }
   ],
   "source": [
    "import torch\n",
    "print(\"GPU available:\", torch.cuda.is_available())\n",
    "if torch.cuda.is_available():\n",
    "    print(\"GPU name:\", torch.cuda.get_device_name(0))\n",
    "\n"
   ]
  },
  {
   "cell_type": "code",
   "execution_count": 5,
   "id": "b235edd3-f74e-4189-acaa-aa894415a676",
   "metadata": {
    "execution": {
     "iopub.execute_input": "2025-10-05T15:22:42.432336Z",
     "iopub.status.busy": "2025-10-05T15:22:42.432134Z",
     "iopub.status.idle": "2025-10-05T15:22:45.446307Z",
     "shell.execute_reply": "2025-10-05T15:22:45.445379Z",
     "shell.execute_reply.started": "2025-10-05T15:22:42.432313Z"
    },
    "trusted": true
   },
   "outputs": [
    {
     "name": "stdout",
     "output_type": "stream",
     "text": [
      "Requirement already satisfied: Path in /usr/local/lib/python3.11/dist-packages (17.1.0)\n"
     ]
    }
   ],
   "source": [
    "!pip install Path"
   ]
  },
  {
   "cell_type": "code",
   "execution_count": 6,
   "id": "9aae27c7-8ae2-4a56-9f00-4b59c7f908fe",
   "metadata": {
    "execution": {
     "iopub.execute_input": "2025-10-05T15:22:45.448560Z",
     "iopub.status.busy": "2025-10-05T15:22:45.447577Z",
     "iopub.status.idle": "2025-10-05T15:22:45.453352Z",
     "shell.execute_reply": "2025-10-05T15:22:45.452481Z",
     "shell.execute_reply.started": "2025-10-05T15:22:45.448522Z"
    },
    "trusted": true
   },
   "outputs": [],
   "source": [
    "from pathlib import Path\n",
    "IMAGES_DIR = Path(\"/kaggle/input/manga109-images\")   # các subfolder từng bộ truyện\n",
    "ANNOTATIONS_DIR = Path(\"/kaggle/input/manga109/jsons\") "
   ]
  },
  {
   "cell_type": "code",
   "execution_count": 7,
   "id": "7a95bab2-fecb-4c2a-9f17-5c14f0ba2976",
   "metadata": {
    "execution": {
     "iopub.execute_input": "2025-10-05T15:22:45.455234Z",
     "iopub.status.busy": "2025-10-05T15:22:45.454653Z",
     "iopub.status.idle": "2025-10-05T15:22:45.472905Z",
     "shell.execute_reply": "2025-10-05T15:22:45.472145Z",
     "shell.execute_reply.started": "2025-10-05T15:22:45.455204Z"
    },
    "trusted": true
   },
   "outputs": [],
   "source": [
    "# 1. Paths & logging\n",
    "# =========================\n",
    "yolo_data_dir = Path(\"./yolo_data\")\n",
    "train_images_dir = yolo_data_dir / \"images/train\"\n",
    "val_images_dir   = yolo_data_dir / \"images/val\"\n",
    "train_labels_dir = yolo_data_dir / \"labels/train\"\n",
    "val_labels_dir   = yolo_data_dir / \"labels/val\"\n",
    "\n",
    "for path in [train_images_dir, val_images_dir, train_labels_dir, val_labels_dir]:\n",
    "    path.mkdir(parents=True, exist_ok=True)\n",
    "\n",
    "IMAGES_DIR = Path(\"/kaggle/input/manga109-images/images\")  # images dataset\n",
    "ANNOTATIONS_DIR = Path(\"/kaggle/input/manga109-jsons/jsons\")  # COCO JSONs\n",
    "\n",
    "def log(msg):\n",
    "    print(f\"[INFO] {msg}\")\n"
   ]
  },
  {
   "cell_type": "code",
   "execution_count": 8,
   "id": "9b29a509-5247-4716-8802-d5530c0c0c71",
   "metadata": {
    "execution": {
     "iopub.execute_input": "2025-10-05T15:22:45.473904Z",
     "iopub.status.busy": "2025-10-05T15:22:45.473674Z",
     "iopub.status.idle": "2025-10-05T15:22:45.662854Z",
     "shell.execute_reply": "2025-10-05T15:22:45.662088Z",
     "shell.execute_reply.started": "2025-10-05T15:22:45.473881Z"
    },
    "trusted": true
   },
   "outputs": [
    {
     "name": "stdout",
     "output_type": "stream",
     "text": [
      "[INFO] Found 109 JSON files\n"
     ]
    }
   ],
   "source": [
    "# =========================\n",
    "# 4. Lấy danh sách JSON & check\n",
    "# =========================\n",
    "json_files = list(ANNOTATIONS_DIR.rglob(\"*.json\"))\n",
    "log(f\"Found {len(json_files)} JSON files\")\n",
    "assert len(json_files) > 0, f\"No JSON files found in {ANNOTATIONS_DIR}\"\n"
   ]
  },
  {
   "cell_type": "code",
   "execution_count": 9,
   "id": "2fc63500-c331-49be-844a-bf7f56c49b52",
   "metadata": {
    "execution": {
     "iopub.execute_input": "2025-10-05T15:22:45.664283Z",
     "iopub.status.busy": "2025-10-05T15:22:45.663769Z",
     "iopub.status.idle": "2025-10-05T15:22:45.673458Z",
     "shell.execute_reply": "2025-10-05T15:22:45.672133Z",
     "shell.execute_reply.started": "2025-10-05T15:22:45.664254Z"
    },
    "trusted": true
   },
   "outputs": [
    {
     "name": "stdout",
     "output_type": "stream",
     "text": [
      "Folders trong images:\n",
      "NichijouSoup\n",
      "LancelotFullThrottle\n",
      "ShimatteIkouze_vol01\n",
      "ARMS\n",
      "EvaLady\n",
      "SyabondamaKieta\n",
      "RinToSiteSippuNoNaka\n",
      "TetsuSan\n",
      "YouchienBoueigumi\n",
      "Donburakokko\n",
      "MagicianLoad\n",
      "RisingGirl\n",
      "HisokaReturns\n",
      "HighschoolKimengumi_vol01\n",
      "MAD_STONE\n",
      "HanzaiKousyouninMinegishiEitarou\n",
      "MomoyamaHaikagura\n",
      "Raphael\n",
      "SeisinkiVulnus\n",
      "SonokiDeABC\n",
      "YoumaKourin\n",
      "HealingPlanet\n",
      "DualJustice\n",
      "BurariTessenTorimonocho\n",
      "SaladDays_vol18\n",
      "DollGun\n",
      "GarakutayaManta\n",
      "UnbalanceTokyo\n",
      "KyokugenCyclone\n",
      "Belmondo\n",
      "OL_Lunch\n",
      "MagicStarGakuin\n",
      "Count3DeKimeteAgeru\n",
      "GakuenNoise\n",
      "TouyouKidan\n",
      "BakuretsuKungFuGirl\n",
      "MutekiBoukenSyakuma\n",
      "EienNoWith\n",
      "TasogareTsushin\n",
      "MayaNoAkaiKutsu\n",
      "HinagikuKenzan\n",
      "BokuHaSitatakaKun\n",
      "MiraiSan\n",
      "YasasiiAkuma\n",
      "ShimatteIkouze_vol26\n",
      "KoukouNoHitotachi\n",
      "PLANET7\n",
      "MeteoSanStrikeDesu\n",
      "Akuhamu\n",
      "AisazuNihaIrarenai\n",
      "ReveryEarth\n",
      "AppareKappore\n",
      "Arisa\n",
      "TapkunNoTanteisitsu\n",
      "KarappoHighschool\n",
      "Jyovolley\n",
      "HighschoolKimengumi_vol20\n",
      "Nekodama\n",
      "Joouari\n",
      "YamatoNoHane\n",
      "ThatIzumiko\n",
      "UchuKigekiM774\n",
      "EverydayOsakanaChan\n",
      "AkkeraKanjinchou\n",
      "MukoukizuNoChonbo\n",
      "MemorySeijin\n",
      "OhWareraRettouSeitokai\n",
      "HarukaRefrain\n",
      "JijiBabaFight\n",
      "PikaruGenkiDesu\n",
      "Ningyoushi\n",
      "TotteokiNoABC\n",
      "AosugiruHaru\n",
      "SamayoeruSyonenNiJunaiWo\n",
      "PsychoStaff\n",
      "PrismHeart\n",
      "TensiNoHaneToAkumaNoShippo\n",
      "TennenSenshiG\n",
      "LoveHina_vol14\n",
      "BEMADER_P\n",
      "WarewareHaOniDearu\n",
      "ByebyeC-BOY\n",
      "HaruichibanNoFukukoro\n",
      "Hamlet\n",
      "MoeruOnisan_vol01\n",
      "HeiseiJimen\n",
      "ParaisoRoad\n",
      "MadouTaiga\n",
      "UchiNoNyanDiary\n",
      "ToutaMairimasu\n",
      "YumeNoKayoiji\n",
      "KimiHaBokuNoTaiyouDa\n",
      "TsubasaNoKioku\n",
      "GOOD_KISS_Ver2\n",
      "YumeiroCooking\n",
      "Saisoku\n",
      "JangiriPonpon\n",
      "PrayerHaNemurenai\n",
      "YukiNoFuruMachi\n",
      "MisutenaideDaisy\n",
      "PlatinumJungle\n",
      "LoveHina_vol01\n",
      "GinNoChimera\n",
      "TaiyouNiSmash\n",
      "UltraEleven\n",
      "SaladDays_vol01\n",
      "KuroidoGanka\n",
      "MoeruOnisan_vol19\n",
      "MariaSamaNihaNaisyo\n",
      "\n",
      "JSON files:\n",
      "YouchienBoueigumi\n",
      "WarewareHaOniDearu\n",
      "MisutenaideDaisy\n",
      "TennenSenshiG\n",
      "KimiHaBokuNoTaiyouDa\n",
      "HighschoolKimengumi_vol01\n",
      "MiraiSan\n",
      "LoveHina_vol01\n",
      "TensiNoHaneToAkumaNoShippo\n",
      "HisokaReturns\n",
      "UltraEleven\n",
      "Donburakokko\n",
      "TetsuSan\n",
      "KoukouNoHitotachi\n",
      "ThatIzumiko\n",
      "MadouTaiga\n",
      "EvaLady\n",
      "ByebyeC-BOY\n",
      "HinagikuKenzan\n",
      "BEMADER_P\n",
      "PrayerHaNemurenai\n",
      "MariaSamaNihaNaisyo\n",
      "MoeruOnisan_vol01\n",
      "UchiNoNyanDiary\n",
      "HanzaiKousyouninMinegishiEitarou\n",
      "MoeruOnisan_vol19\n",
      "KyokugenCyclone\n",
      "ReveryEarth\n",
      "Belmondo\n",
      "YukiNoFuruMachi\n",
      "PLANET7\n",
      "OhWareraRettouSeitokai\n",
      "MeteoSanStrikeDesu\n",
      "Ningyoushi\n",
      "YoumaKourin\n",
      "PsychoStaff\n",
      "Jyovolley\n",
      "HeiseiJimen\n",
      "TaiyouNiSmash\n",
      "MagicianLoad\n",
      "MayaNoAkaiKutsu\n",
      "PikaruGenkiDesu\n",
      "Hamlet\n",
      "AppareKappore\n",
      "LoveHina_vol14\n",
      "EverydayOsakanaChan\n",
      "RisingGirl\n",
      "GOOD_KISS_Ver2\n",
      "Joouari\n",
      "EienNoWith\n",
      "DollGun\n",
      "TotteokiNoABC\n",
      "GinNoChimera\n",
      "DualJustice\n",
      "UchuKigekiM774\n",
      "MAD_STONE\n",
      "YumeiroCooking\n",
      "SaladDays_vol18\n",
      "PrismHeart\n",
      "MukoukizuNoChonbo\n",
      "MomoyamaHaikagura\n",
      "ShimatteIkouze_vol01\n",
      "ParaisoRoad\n",
      "YumeNoKayoiji\n",
      "Raphael\n",
      "TsubasaNoKioku\n",
      "KuroidoGanka\n",
      "JangiriPonpon\n",
      "HarukaRefrain\n",
      "TasogareTsushin\n",
      "YamatoNoHane\n",
      "SamayoeruSyonenNiJunaiWo\n",
      "BakuretsuKungFuGirl\n",
      "SyabondamaKieta\n",
      "Saisoku\n",
      "UnbalanceTokyo\n",
      "AisazuNihaIrarenai\n",
      "HighschoolKimengumi_vol20\n",
      "Akuhamu\n",
      "SaladDays_vol01\n",
      "JijiBabaFight\n",
      "ShimatteIkouze_vol26\n",
      "ToutaMairimasu\n",
      "MemorySeijin\n",
      "MutekiBoukenSyakuma\n",
      "LancelotFullThrottle\n",
      "YasasiiAkuma\n",
      "GakuenNoise\n",
      "BokuHaSitatakaKun\n",
      "OL_Lunch\n",
      "NichijouSoup\n",
      "Arisa\n",
      "ARMS\n",
      "AosugiruHaru\n",
      "SonokiDeABC\n",
      "RinToSiteSippuNoNaka\n",
      "SeisinkiVulnus\n",
      "GarakutayaManta\n",
      "KarappoHighschool\n",
      "MagicStarGakuin\n",
      "BurariTessenTorimonocho\n",
      "AkkeraKanjinchou\n",
      "PlatinumJungle\n",
      "TouyouKidan\n",
      "HealingPlanet\n",
      "Count3DeKimeteAgeru\n",
      "Nekodama\n",
      "TapkunNoTanteisitsu\n",
      "HaruichibanNoFukukoro\n"
     ]
    }
   ],
   "source": [
    "print(\"Folders trong images:\")\n",
    "for f in IMAGES_DIR.iterdir():\n",
    "    print(f.name)\n",
    "\n",
    "print(\"\\nJSON files:\")\n",
    "for j in ANNOTATIONS_DIR.glob(\"*.json\"):\n",
    "    print(j.stem)\n"
   ]
  },
  {
   "cell_type": "code",
   "execution_count": 10,
   "id": "245bf0fa-817a-45bf-b163-36550ce1fea3",
   "metadata": {
    "execution": {
     "iopub.execute_input": "2025-10-05T15:22:45.676535Z",
     "iopub.status.busy": "2025-10-05T15:22:45.676168Z",
     "iopub.status.idle": "2025-10-05T15:22:45.753389Z",
     "shell.execute_reply": "2025-10-05T15:22:45.752708Z",
     "shell.execute_reply.started": "2025-10-05T15:22:45.676508Z"
    },
    "trusted": true
   },
   "outputs": [
    {
     "name": "stdout",
     "output_type": "stream",
     "text": [
      "JSON: YouchienBoueigumi.json, folder ảnh: /kaggle/input/manga109-images/images/YouchienBoueigumi, tồn tại: True\n",
      "JSON: WarewareHaOniDearu.json, folder ảnh: /kaggle/input/manga109-images/images/WarewareHaOniDearu, tồn tại: True\n",
      "JSON: MisutenaideDaisy.json, folder ảnh: /kaggle/input/manga109-images/images/MisutenaideDaisy, tồn tại: True\n",
      "JSON: TennenSenshiG.json, folder ảnh: /kaggle/input/manga109-images/images/TennenSenshiG, tồn tại: True\n",
      "JSON: KimiHaBokuNoTaiyouDa.json, folder ảnh: /kaggle/input/manga109-images/images/KimiHaBokuNoTaiyouDa, tồn tại: True\n",
      "JSON: HighschoolKimengumi_vol01.json, folder ảnh: /kaggle/input/manga109-images/images/HighschoolKimengumi_vol01, tồn tại: True\n",
      "JSON: MiraiSan.json, folder ảnh: /kaggle/input/manga109-images/images/MiraiSan, tồn tại: True\n",
      "JSON: LoveHina_vol01.json, folder ảnh: /kaggle/input/manga109-images/images/LoveHina_vol01, tồn tại: True\n",
      "JSON: TensiNoHaneToAkumaNoShippo.json, folder ảnh: /kaggle/input/manga109-images/images/TensiNoHaneToAkumaNoShippo, tồn tại: True\n",
      "JSON: HisokaReturns.json, folder ảnh: /kaggle/input/manga109-images/images/HisokaReturns, tồn tại: True\n",
      "JSON: UltraEleven.json, folder ảnh: /kaggle/input/manga109-images/images/UltraEleven, tồn tại: True\n",
      "JSON: Donburakokko.json, folder ảnh: /kaggle/input/manga109-images/images/Donburakokko, tồn tại: True\n",
      "JSON: TetsuSan.json, folder ảnh: /kaggle/input/manga109-images/images/TetsuSan, tồn tại: True\n",
      "JSON: KoukouNoHitotachi.json, folder ảnh: /kaggle/input/manga109-images/images/KoukouNoHitotachi, tồn tại: True\n",
      "JSON: ThatIzumiko.json, folder ảnh: /kaggle/input/manga109-images/images/ThatIzumiko, tồn tại: True\n",
      "JSON: MadouTaiga.json, folder ảnh: /kaggle/input/manga109-images/images/MadouTaiga, tồn tại: True\n",
      "JSON: EvaLady.json, folder ảnh: /kaggle/input/manga109-images/images/EvaLady, tồn tại: True\n",
      "JSON: ByebyeC-BOY.json, folder ảnh: /kaggle/input/manga109-images/images/ByebyeC-BOY, tồn tại: True\n",
      "JSON: HinagikuKenzan.json, folder ảnh: /kaggle/input/manga109-images/images/HinagikuKenzan, tồn tại: True\n",
      "JSON: BEMADER_P.json, folder ảnh: /kaggle/input/manga109-images/images/BEMADER_P, tồn tại: True\n",
      "JSON: PrayerHaNemurenai.json, folder ảnh: /kaggle/input/manga109-images/images/PrayerHaNemurenai, tồn tại: True\n",
      "JSON: MariaSamaNihaNaisyo.json, folder ảnh: /kaggle/input/manga109-images/images/MariaSamaNihaNaisyo, tồn tại: True\n",
      "JSON: MoeruOnisan_vol01.json, folder ảnh: /kaggle/input/manga109-images/images/MoeruOnisan_vol01, tồn tại: True\n",
      "JSON: UchiNoNyanDiary.json, folder ảnh: /kaggle/input/manga109-images/images/UchiNoNyanDiary, tồn tại: True\n",
      "JSON: HanzaiKousyouninMinegishiEitarou.json, folder ảnh: /kaggle/input/manga109-images/images/HanzaiKousyouninMinegishiEitarou, tồn tại: True\n",
      "JSON: MoeruOnisan_vol19.json, folder ảnh: /kaggle/input/manga109-images/images/MoeruOnisan_vol19, tồn tại: True\n",
      "JSON: KyokugenCyclone.json, folder ảnh: /kaggle/input/manga109-images/images/KyokugenCyclone, tồn tại: True\n",
      "JSON: ReveryEarth.json, folder ảnh: /kaggle/input/manga109-images/images/ReveryEarth, tồn tại: True\n",
      "JSON: Belmondo.json, folder ảnh: /kaggle/input/manga109-images/images/Belmondo, tồn tại: True\n",
      "JSON: YukiNoFuruMachi.json, folder ảnh: /kaggle/input/manga109-images/images/YukiNoFuruMachi, tồn tại: True\n",
      "JSON: PLANET7.json, folder ảnh: /kaggle/input/manga109-images/images/PLANET7, tồn tại: True\n",
      "JSON: OhWareraRettouSeitokai.json, folder ảnh: /kaggle/input/manga109-images/images/OhWareraRettouSeitokai, tồn tại: True\n",
      "JSON: MeteoSanStrikeDesu.json, folder ảnh: /kaggle/input/manga109-images/images/MeteoSanStrikeDesu, tồn tại: True\n",
      "JSON: Ningyoushi.json, folder ảnh: /kaggle/input/manga109-images/images/Ningyoushi, tồn tại: True\n",
      "JSON: YoumaKourin.json, folder ảnh: /kaggle/input/manga109-images/images/YoumaKourin, tồn tại: True\n",
      "JSON: PsychoStaff.json, folder ảnh: /kaggle/input/manga109-images/images/PsychoStaff, tồn tại: True\n",
      "JSON: Jyovolley.json, folder ảnh: /kaggle/input/manga109-images/images/Jyovolley, tồn tại: True\n",
      "JSON: HeiseiJimen.json, folder ảnh: /kaggle/input/manga109-images/images/HeiseiJimen, tồn tại: True\n",
      "JSON: TaiyouNiSmash.json, folder ảnh: /kaggle/input/manga109-images/images/TaiyouNiSmash, tồn tại: True\n",
      "JSON: MagicianLoad.json, folder ảnh: /kaggle/input/manga109-images/images/MagicianLoad, tồn tại: True\n",
      "JSON: MayaNoAkaiKutsu.json, folder ảnh: /kaggle/input/manga109-images/images/MayaNoAkaiKutsu, tồn tại: True\n",
      "JSON: PikaruGenkiDesu.json, folder ảnh: /kaggle/input/manga109-images/images/PikaruGenkiDesu, tồn tại: True\n",
      "JSON: Hamlet.json, folder ảnh: /kaggle/input/manga109-images/images/Hamlet, tồn tại: True\n",
      "JSON: AppareKappore.json, folder ảnh: /kaggle/input/manga109-images/images/AppareKappore, tồn tại: True\n",
      "JSON: LoveHina_vol14.json, folder ảnh: /kaggle/input/manga109-images/images/LoveHina_vol14, tồn tại: True\n",
      "JSON: EverydayOsakanaChan.json, folder ảnh: /kaggle/input/manga109-images/images/EverydayOsakanaChan, tồn tại: True\n",
      "JSON: RisingGirl.json, folder ảnh: /kaggle/input/manga109-images/images/RisingGirl, tồn tại: True\n",
      "JSON: GOOD_KISS_Ver2.json, folder ảnh: /kaggle/input/manga109-images/images/GOOD_KISS_Ver2, tồn tại: True\n",
      "JSON: Joouari.json, folder ảnh: /kaggle/input/manga109-images/images/Joouari, tồn tại: True\n",
      "JSON: EienNoWith.json, folder ảnh: /kaggle/input/manga109-images/images/EienNoWith, tồn tại: True\n",
      "JSON: DollGun.json, folder ảnh: /kaggle/input/manga109-images/images/DollGun, tồn tại: True\n",
      "JSON: TotteokiNoABC.json, folder ảnh: /kaggle/input/manga109-images/images/TotteokiNoABC, tồn tại: True\n",
      "JSON: GinNoChimera.json, folder ảnh: /kaggle/input/manga109-images/images/GinNoChimera, tồn tại: True\n",
      "JSON: DualJustice.json, folder ảnh: /kaggle/input/manga109-images/images/DualJustice, tồn tại: True\n",
      "JSON: UchuKigekiM774.json, folder ảnh: /kaggle/input/manga109-images/images/UchuKigekiM774, tồn tại: True\n",
      "JSON: MAD_STONE.json, folder ảnh: /kaggle/input/manga109-images/images/MAD_STONE, tồn tại: True\n",
      "JSON: YumeiroCooking.json, folder ảnh: /kaggle/input/manga109-images/images/YumeiroCooking, tồn tại: True\n",
      "JSON: SaladDays_vol18.json, folder ảnh: /kaggle/input/manga109-images/images/SaladDays_vol18, tồn tại: True\n",
      "JSON: PrismHeart.json, folder ảnh: /kaggle/input/manga109-images/images/PrismHeart, tồn tại: True\n",
      "JSON: MukoukizuNoChonbo.json, folder ảnh: /kaggle/input/manga109-images/images/MukoukizuNoChonbo, tồn tại: True\n",
      "JSON: MomoyamaHaikagura.json, folder ảnh: /kaggle/input/manga109-images/images/MomoyamaHaikagura, tồn tại: True\n",
      "JSON: ShimatteIkouze_vol01.json, folder ảnh: /kaggle/input/manga109-images/images/ShimatteIkouze_vol01, tồn tại: True\n",
      "JSON: ParaisoRoad.json, folder ảnh: /kaggle/input/manga109-images/images/ParaisoRoad, tồn tại: True\n",
      "JSON: YumeNoKayoiji.json, folder ảnh: /kaggle/input/manga109-images/images/YumeNoKayoiji, tồn tại: True\n",
      "JSON: Raphael.json, folder ảnh: /kaggle/input/manga109-images/images/Raphael, tồn tại: True\n",
      "JSON: TsubasaNoKioku.json, folder ảnh: /kaggle/input/manga109-images/images/TsubasaNoKioku, tồn tại: True\n",
      "JSON: KuroidoGanka.json, folder ảnh: /kaggle/input/manga109-images/images/KuroidoGanka, tồn tại: True\n",
      "JSON: JangiriPonpon.json, folder ảnh: /kaggle/input/manga109-images/images/JangiriPonpon, tồn tại: True\n",
      "JSON: HarukaRefrain.json, folder ảnh: /kaggle/input/manga109-images/images/HarukaRefrain, tồn tại: True\n",
      "JSON: TasogareTsushin.json, folder ảnh: /kaggle/input/manga109-images/images/TasogareTsushin, tồn tại: True\n",
      "JSON: YamatoNoHane.json, folder ảnh: /kaggle/input/manga109-images/images/YamatoNoHane, tồn tại: True\n",
      "JSON: SamayoeruSyonenNiJunaiWo.json, folder ảnh: /kaggle/input/manga109-images/images/SamayoeruSyonenNiJunaiWo, tồn tại: True\n",
      "JSON: BakuretsuKungFuGirl.json, folder ảnh: /kaggle/input/manga109-images/images/BakuretsuKungFuGirl, tồn tại: True\n",
      "JSON: SyabondamaKieta.json, folder ảnh: /kaggle/input/manga109-images/images/SyabondamaKieta, tồn tại: True\n",
      "JSON: Saisoku.json, folder ảnh: /kaggle/input/manga109-images/images/Saisoku, tồn tại: True\n",
      "JSON: UnbalanceTokyo.json, folder ảnh: /kaggle/input/manga109-images/images/UnbalanceTokyo, tồn tại: True\n",
      "JSON: AisazuNihaIrarenai.json, folder ảnh: /kaggle/input/manga109-images/images/AisazuNihaIrarenai, tồn tại: True\n",
      "JSON: HighschoolKimengumi_vol20.json, folder ảnh: /kaggle/input/manga109-images/images/HighschoolKimengumi_vol20, tồn tại: True\n",
      "JSON: Akuhamu.json, folder ảnh: /kaggle/input/manga109-images/images/Akuhamu, tồn tại: True\n",
      "JSON: SaladDays_vol01.json, folder ảnh: /kaggle/input/manga109-images/images/SaladDays_vol01, tồn tại: True\n",
      "JSON: JijiBabaFight.json, folder ảnh: /kaggle/input/manga109-images/images/JijiBabaFight, tồn tại: True\n",
      "JSON: ShimatteIkouze_vol26.json, folder ảnh: /kaggle/input/manga109-images/images/ShimatteIkouze_vol26, tồn tại: True\n",
      "JSON: ToutaMairimasu.json, folder ảnh: /kaggle/input/manga109-images/images/ToutaMairimasu, tồn tại: True\n",
      "JSON: MemorySeijin.json, folder ảnh: /kaggle/input/manga109-images/images/MemorySeijin, tồn tại: True\n",
      "JSON: MutekiBoukenSyakuma.json, folder ảnh: /kaggle/input/manga109-images/images/MutekiBoukenSyakuma, tồn tại: True\n",
      "JSON: LancelotFullThrottle.json, folder ảnh: /kaggle/input/manga109-images/images/LancelotFullThrottle, tồn tại: True\n",
      "JSON: YasasiiAkuma.json, folder ảnh: /kaggle/input/manga109-images/images/YasasiiAkuma, tồn tại: True\n",
      "JSON: GakuenNoise.json, folder ảnh: /kaggle/input/manga109-images/images/GakuenNoise, tồn tại: True\n",
      "JSON: BokuHaSitatakaKun.json, folder ảnh: /kaggle/input/manga109-images/images/BokuHaSitatakaKun, tồn tại: True\n",
      "JSON: OL_Lunch.json, folder ảnh: /kaggle/input/manga109-images/images/OL_Lunch, tồn tại: True\n",
      "JSON: NichijouSoup.json, folder ảnh: /kaggle/input/manga109-images/images/NichijouSoup, tồn tại: True\n",
      "JSON: Arisa.json, folder ảnh: /kaggle/input/manga109-images/images/Arisa, tồn tại: True\n",
      "JSON: ARMS.json, folder ảnh: /kaggle/input/manga109-images/images/ARMS, tồn tại: True\n",
      "JSON: AosugiruHaru.json, folder ảnh: /kaggle/input/manga109-images/images/AosugiruHaru, tồn tại: True\n",
      "JSON: SonokiDeABC.json, folder ảnh: /kaggle/input/manga109-images/images/SonokiDeABC, tồn tại: True\n",
      "JSON: RinToSiteSippuNoNaka.json, folder ảnh: /kaggle/input/manga109-images/images/RinToSiteSippuNoNaka, tồn tại: True\n",
      "JSON: SeisinkiVulnus.json, folder ảnh: /kaggle/input/manga109-images/images/SeisinkiVulnus, tồn tại: True\n",
      "JSON: GarakutayaManta.json, folder ảnh: /kaggle/input/manga109-images/images/GarakutayaManta, tồn tại: True\n",
      "JSON: KarappoHighschool.json, folder ảnh: /kaggle/input/manga109-images/images/KarappoHighschool, tồn tại: True\n",
      "JSON: MagicStarGakuin.json, folder ảnh: /kaggle/input/manga109-images/images/MagicStarGakuin, tồn tại: True\n",
      "JSON: BurariTessenTorimonocho.json, folder ảnh: /kaggle/input/manga109-images/images/BurariTessenTorimonocho, tồn tại: True\n",
      "JSON: AkkeraKanjinchou.json, folder ảnh: /kaggle/input/manga109-images/images/AkkeraKanjinchou, tồn tại: True\n",
      "JSON: PlatinumJungle.json, folder ảnh: /kaggle/input/manga109-images/images/PlatinumJungle, tồn tại: True\n",
      "JSON: TouyouKidan.json, folder ảnh: /kaggle/input/manga109-images/images/TouyouKidan, tồn tại: True\n",
      "JSON: HealingPlanet.json, folder ảnh: /kaggle/input/manga109-images/images/HealingPlanet, tồn tại: True\n",
      "JSON: Count3DeKimeteAgeru.json, folder ảnh: /kaggle/input/manga109-images/images/Count3DeKimeteAgeru, tồn tại: True\n",
      "JSON: Nekodama.json, folder ảnh: /kaggle/input/manga109-images/images/Nekodama, tồn tại: True\n",
      "JSON: TapkunNoTanteisitsu.json, folder ảnh: /kaggle/input/manga109-images/images/TapkunNoTanteisitsu, tồn tại: True\n",
      "JSON: HaruichibanNoFukukoro.json, folder ảnh: /kaggle/input/manga109-images/images/HaruichibanNoFukukoro, tồn tại: True\n"
     ]
    }
   ],
   "source": [
    "for jf in ANNOTATIONS_DIR.glob(\"*.json\"):\n",
    "    manga_name = jf.stem\n",
    "    img_folder = IMAGES_DIR / manga_name\n",
    "    print(f\"JSON: {jf.name}, folder ảnh: {img_folder}, tồn tại: {img_folder.exists()}\")\n"
   ]
  },
  {
   "cell_type": "code",
   "execution_count": 11,
   "id": "4df50f37-bad8-4235-baae-9ff5b9ba130a",
   "metadata": {
    "trusted": true
   },
   "outputs": [
    {
     "name": "stdout",
     "output_type": "stream",
     "text": [
      "Found 109 JSON files to process.\n"
     ]
    },
    {
     "name": "stderr",
     "output_type": "stream",
     "text": [
      "Processing JSONs:   4%|▎         | 4/109 [01:51<48:51, 27.91s/it]\n"
     ]
    },
    {
     "ename": "KeyboardInterrupt",
     "evalue": "",
     "output_type": "error",
     "traceback": [
      "\u001b[0;31m---------------------------------------------------------------------------\u001b[0m",
      "\u001b[0;31mKeyboardInterrupt\u001b[0m                         Traceback (most recent call last)",
      "\u001b[0;32m/tmp/ipykernel_75/109590244.py\u001b[0m in \u001b[0;36m<cell line: 0>\u001b[0;34m()\u001b[0m\n\u001b[1;32m     64\u001b[0m \u001b[0;34m\u001b[0m\u001b[0m\n\u001b[1;32m     65\u001b[0m \u001b[0;34m\u001b[0m\u001b[0m\n\u001b[0;32m---> 66\u001b[0;31m \u001b[0mpreprocess_all_jsons\u001b[0m\u001b[0;34m(\u001b[0m\u001b[0;34m)\u001b[0m\u001b[0;34m\u001b[0m\u001b[0;34m\u001b[0m\u001b[0m\n\u001b[0m\u001b[1;32m     67\u001b[0m \u001b[0;34m\u001b[0m\u001b[0m\n\u001b[1;32m     68\u001b[0m \u001b[0;34m\u001b[0m\u001b[0m\n",
      "\u001b[0;32m/tmp/ipykernel_75/109590244.py\u001b[0m in \u001b[0;36mpreprocess_all_jsons\u001b[0;34m()\u001b[0m\n\u001b[1;32m     47\u001b[0m             \u001b[0;32mif\u001b[0m \u001b[0misinstance\u001b[0m\u001b[0;34m(\u001b[0m\u001b[0mseg\u001b[0m\u001b[0;34m,\u001b[0m \u001b[0mdict\u001b[0m\u001b[0;34m)\u001b[0m\u001b[0;34m:\u001b[0m  \u001b[0;31m# convert RLE → polygon\u001b[0m\u001b[0;34m\u001b[0m\u001b[0;34m\u001b[0m\u001b[0m\n\u001b[1;32m     48\u001b[0m                 \u001b[0mmask\u001b[0m \u001b[0;34m=\u001b[0m \u001b[0mmaskUtils\u001b[0m\u001b[0;34m.\u001b[0m\u001b[0mdecode\u001b[0m\u001b[0;34m(\u001b[0m\u001b[0mseg\u001b[0m\u001b[0;34m)\u001b[0m\u001b[0;34m\u001b[0m\u001b[0;34m\u001b[0m\u001b[0m\n\u001b[0;32m---> 49\u001b[0;31m                 \u001b[0mcontours\u001b[0m\u001b[0;34m,\u001b[0m \u001b[0m_\u001b[0m \u001b[0;34m=\u001b[0m \u001b[0mcv2\u001b[0m\u001b[0;34m.\u001b[0m\u001b[0mfindContours\u001b[0m\u001b[0;34m(\u001b[0m\u001b[0mmask\u001b[0m\u001b[0;34m,\u001b[0m \u001b[0mcv2\u001b[0m\u001b[0;34m.\u001b[0m\u001b[0mRETR_EXTERNAL\u001b[0m\u001b[0;34m,\u001b[0m \u001b[0mcv2\u001b[0m\u001b[0;34m.\u001b[0m\u001b[0mCHAIN_APPROX_SIMPLE\u001b[0m\u001b[0;34m)\u001b[0m\u001b[0;34m\u001b[0m\u001b[0;34m\u001b[0m\u001b[0m\n\u001b[0m\u001b[1;32m     50\u001b[0m                 \u001b[0mpolys\u001b[0m \u001b[0;34m=\u001b[0m \u001b[0;34m[\u001b[0m\u001b[0;34m]\u001b[0m\u001b[0;34m\u001b[0m\u001b[0;34m\u001b[0m\u001b[0m\n\u001b[1;32m     51\u001b[0m                 \u001b[0;32mfor\u001b[0m \u001b[0mc\u001b[0m \u001b[0;32min\u001b[0m \u001b[0mcontours\u001b[0m\u001b[0;34m:\u001b[0m\u001b[0;34m\u001b[0m\u001b[0;34m\u001b[0m\u001b[0m\n",
      "\u001b[0;31mKeyboardInterrupt\u001b[0m: "
     ]
    }
   ],
   "source": [
    "# =========================\n",
    "# ✅ 1. Import & Config\n",
    "# =========================\n",
    "import os\n",
    "import json\n",
    "import random\n",
    "import shutil\n",
    "import cv2\n",
    "import numpy as np\n",
    "import pycocotools.mask as maskUtils\n",
    "from tqdm import tqdm\n",
    "from pathlib import Path\n",
    "\n",
    "# Input (gốc)\n",
    "ORIGINAL_JSON_DIR = Path(\"/kaggle/input/manga109-jsons/jsons\")\n",
    "IMAGES_DIR = Path(\"/kaggle/input/manga109-images/images\")\n",
    "\n",
    "# Output (processed)\n",
    "PROCESSED_JSON_DIR = Path(\"./MangaSegmentation/jsons_processed\")\n",
    "YOLO_DATA_DIR = Path(\"./yolo_data\")\n",
    "train_images_dir = YOLO_DATA_DIR / \"images/train\"\n",
    "val_images_dir   = YOLO_DATA_DIR / \"images/val\"\n",
    "train_labels_dir = YOLO_DATA_DIR / \"labels/train\"\n",
    "val_labels_dir   = YOLO_DATA_DIR / \"labels/val\"\n",
    "\n",
    "for p in [PROCESSED_JSON_DIR, train_images_dir, val_images_dir, train_labels_dir, val_labels_dir]:\n",
    "    p.mkdir(parents=True, exist_ok=True)\n",
    "\n",
    "def log(msg):\n",
    "    print(f\"[INFO] {msg}\")\n",
    "\n",
    "\n",
    "# =========================\n",
    "# ✅ 2. Convert RLE → Polygon\n",
    "# =========================\n",
    "def preprocess_all_jsons():\n",
    "    json_files = list(ORIGINAL_JSON_DIR.glob(\"*.json\"))\n",
    "    print(f\"Found {len(json_files)} JSON files to process.\")\n",
    "\n",
    "    for json_file in tqdm(json_files, desc=\"Processing JSONs\"):\n",
    "        with open(json_file, 'r') as f:\n",
    "            data = json.load(f)\n",
    "\n",
    "        new_anns = []\n",
    "        for ann in data[\"annotations\"]:\n",
    "            seg = ann[\"segmentation\"]\n",
    "            if isinstance(seg, dict):  # convert RLE → polygon\n",
    "                mask = maskUtils.decode(seg)\n",
    "                contours, _ = cv2.findContours(mask, cv2.RETR_EXTERNAL, cv2.CHAIN_APPROX_SIMPLE)\n",
    "                polys = []\n",
    "                for c in contours:\n",
    "                    if c.size >= 6:\n",
    "                        polys.append(c.flatten().tolist())\n",
    "                if not polys:\n",
    "                    continue\n",
    "                ann[\"segmentation\"] = polys\n",
    "            new_anns.append(ann)\n",
    "\n",
    "        data[\"annotations\"] = new_anns\n",
    "        out_path = PROCESSED_JSON_DIR / json_file.name\n",
    "        with open(out_path, \"w\") as f:\n",
    "            json.dump(data, f)\n",
    "    log(f\"✅ JSONs processed and saved to {PROCESSED_JSON_DIR}\")\n",
    "\n",
    "\n",
    "preprocess_all_jsons()\n",
    "\n",
    "\n",
    "# =========================\n",
    "# ✅ 4. Split train/val\n",
    "# =========================\n",
    "combined = list(zip(all_image_paths, all_label_paths))\n",
    "random.seed(42)\n",
    "random.shuffle(combined)\n",
    "\n",
    "split_idx = int(0.8 * len(combined))\n",
    "train_set = combined[:split_idx]\n",
    "val_set   = combined[split_idx:]\n",
    "\n",
    "def copy_set(data_set, img_dest_root, label_dest_root):\n",
    "    for img_path, label_path in tqdm(data_set, desc=f\"Copying to {img_dest_root.name}\"):\n",
    "        subfolder = img_path.parent.name\n",
    "        img_dest = img_dest_root / subfolder\n",
    "        label_dest = label_dest_root / subfolder\n",
    "        img_dest.mkdir(parents=True, exist_ok=True)\n",
    "        label_dest.mkdir(parents=True, exist_ok=True)\n",
    "        shutil.copy(str(img_path), str(img_dest / img_path.name))\n",
    "        shutil.copy(str(label_path), str(label_dest / label_path.name))\n",
    "\n",
    "copy_set(train_set, train_images_dir, train_labels_dir)\n",
    "copy_set(val_set, val_images_dir, val_labels_dir)\n",
    "\n",
    "log(f\"Train images: {sum(len(list(p.iterdir())) for p in train_images_dir.iterdir())}\")\n",
    "log(f\"Val images:   {sum(len(list(p.iterdir())) for p in val_images_dir.iterdir())}\")\n",
    "\n",
    "log(\"✅ Dataset ready for YOLO training.\")\n"
   ]
  },
  {
   "cell_type": "code",
   "execution_count": null,
   "id": "25f74dd6-6853-4991-b203-dde4e62df25b",
   "metadata": {
    "execution": {
     "iopub.status.busy": "2025-10-05T15:26:21.226975Z",
     "iopub.status.idle": "2025-10-05T15:26:21.227320Z",
     "shell.execute_reply": "2025-10-05T15:26:21.227162Z",
     "shell.execute_reply.started": "2025-10-05T15:26:21.227137Z"
    },
    "trusted": true
   },
   "outputs": [],
   "source": [
    "# 4. Create dataset YAML\n",
    "# =========================\n",
    "import yaml\n",
    "dataset_yaml = yolo_data_dir / \"dataset.yaml\"\n",
    "yaml_dict = {\n",
    "    \"path\": str(yolo_data_dir),\n",
    "    \"train\": \"images/train\",\n",
    "    \"val\": \"images/val\",\n",
    "    \"nc\": 1,\n",
    "    \"names\": [target_class_name]\n",
    "}\n",
    "with open(dataset_yaml, \"w\") as f:\n",
    "    yaml.dump(yaml_dict, f, sort_keys=False)\n",
    "log(f\"Dataset YAML created at: {dataset_yaml} with class: {target_class_name}\")\n",
    "\n"
   ]
  },
  {
   "cell_type": "code",
   "execution_count": null,
   "id": "c3fc0781-b020-4886-a05c-62721eb06ee1",
   "metadata": {
    "execution": {
     "iopub.status.busy": "2025-10-05T15:26:21.228508Z",
     "iopub.status.idle": "2025-10-05T15:26:21.228839Z",
     "shell.execute_reply": "2025-10-05T15:26:21.228678Z",
     "shell.execute_reply.started": "2025-10-05T15:26:21.228664Z"
    },
    "trusted": true
   },
   "outputs": [],
   "source": [
    "model = YOLO(\"yolov8n-seg.pt\")  # pretrained seg model\n",
    "\n",
    "results = model.train(\n",
    "    data=str(dataset_yaml),\n",
    "    epochs=50,\n",
    "    imgsz=640,\n",
    "    batch=8,\n",
    "    device=0,  # GPU\n",
    "    name=\"manga_bubble_seg\",\n",
    "    verbose=True\n",
    ")\n"
   ]
  },
  {
   "cell_type": "code",
   "execution_count": null,
   "id": "3bfffc1c-1718-4685-bf5a-2aab49ccf853",
   "metadata": {
    "execution": {
     "iopub.status.busy": "2025-10-05T15:26:21.229992Z",
     "iopub.status.idle": "2025-10-05T15:26:21.230313Z",
     "shell.execute_reply": "2025-10-05T15:26:21.230159Z",
     "shell.execute_reply.started": "2025-10-05T15:26:21.230146Z"
    },
    "trusted": true
   },
   "outputs": [],
   "source": [
    "# =========================\n",
    "# 7. Evaluate on validation set\n",
    "# =========================\n",
    "val_results = model.val(\n",
    "    data=str(dataset_yaml),\n",
    "    batch=8,\n",
    "    imgsz=640\n",
    ")\n",
    "\n",
    "# val_results chứa các metrics\n",
    "print(\"Validation metrics:\")\n",
    "print(f\"mAP50: {val_results.metrics.mAP_50:.4f}\")\n",
    "print(f\"mAP50-95: {val_results.metrics.mAP_50_95:.4f}\")\n",
    "print(f\"Precision: {val_results.metrics.precision:.4f}\")\n",
    "print(f\"Recall: {val_results.metrics.recall:.4f}\")\n"
   ]
  },
  {
   "cell_type": "code",
   "execution_count": null,
   "id": "f530d698-6d1d-415f-a414-f6d3dbed7a18",
   "metadata": {
    "execution": {
     "iopub.status.busy": "2025-10-05T15:26:21.231297Z",
     "iopub.status.idle": "2025-10-05T15:26:21.231604Z",
     "shell.execute_reply": "2025-10-05T15:26:21.231462Z",
     "shell.execute_reply.started": "2025-10-05T15:26:21.231448Z"
    },
    "trusted": true
   },
   "outputs": [],
   "source": [
    "import matplotlib.pyplot as plt\n",
    "\n",
    "mask_mAP50 = [x['metrics/mAP50'] for x in results.history]\n",
    "mask_mAP5095 = [x['metrics/mAP50-95'] for x in results.history]\n",
    "\n",
    "plt.plot(mask_mAP50, label='mAP50')\n",
    "plt.plot(mask_mAP5095, label='mAP50-95')\n",
    "plt.xlabel(\"Epoch\")\n",
    "plt.ylabel(\"Metric\")\n",
    "plt.title(\"Training Mask mAP\")\n",
    "plt.legend()\n",
    "plt.show()\n"
   ]
  },
  {
   "cell_type": "code",
   "execution_count": null,
   "id": "ec623926-1c33-42e9-889a-015ec3f33f37",
   "metadata": {
    "trusted": true
   },
   "outputs": [],
   "source": []
  }
 ],
 "metadata": {
  "kaggle": {
   "accelerator": "nvidiaTeslaT4",
   "dataSources": [
    {
     "datasetId": 8407158,
     "sourceId": 13266819,
     "sourceType": "datasetVersion"
    },
    {
     "datasetId": 8408218,
     "sourceId": 13268335,
     "sourceType": "datasetVersion"
    }
   ],
   "dockerImageVersionId": 31090,
   "isGpuEnabled": true,
   "isInternetEnabled": true,
   "language": "python",
   "sourceType": "notebook"
  },
  "kernelspec": {
   "display_name": "Python 3 (ipykernel)",
   "language": "python",
   "name": "python3"
  },
  "language_info": {
   "codemirror_mode": {
    "name": "ipython",
    "version": 3
   },
   "file_extension": ".py",
   "mimetype": "text/x-python",
   "name": "python",
   "nbconvert_exporter": "python",
   "pygments_lexer": "ipython3",
   "version": "3.11.13"
  }
 },
 "nbformat": 4,
 "nbformat_minor": 5
}
