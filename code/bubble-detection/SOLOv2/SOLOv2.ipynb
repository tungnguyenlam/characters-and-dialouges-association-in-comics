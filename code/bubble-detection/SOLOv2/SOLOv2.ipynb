{
 "cells": [
  {
   "cell_type": "code",
   "execution_count": null,
   "id": "e4e95a94",
   "metadata": {},
   "outputs": [],
   "source": [
    "# Download config and checkpoint using mim\n",
    "!mim download mmdet --config solov2_r50_fpn_1x_coco --dest ."
   ]
  },
  {
   "cell_type": "code",
   "execution_count": null,
   "id": "51984619",
   "metadata": {},
   "outputs": [],
   "source": [
    "!ls\n",
    "%cd ../../..\n",
    "!ls"
   ]
  },
  {
   "cell_type": "code",
   "execution_count": null,
   "id": "1bb64726",
   "metadata": {},
   "outputs": [],
   "source": [
    "# Fix all compatibility issues\n",
    "!pip uninstall numpy scikit-learn scipy mmcv -y\n",
    "!pip install --no-cache-dir --force-reinstall \"numpy<2.0\" scipy scikit-learn\n",
    "\n",
    "# Get PyTorch version and install compatible mmcv\n",
    "import torch\n",
    "torch_version = torch.__version__\n",
    "print(f\"PyTorch version: {torch_version}\")\n",
    "\n",
    "# Reinstall mmcv from source\n",
    "!pip install --no-cache-dir \"mmcv>=2.0.0,<2.2.0\" --no-build-isolation"
   ]
  },
  {
   "cell_type": "code",
   "execution_count": null,
   "id": "27935cc0",
   "metadata": {},
   "outputs": [],
   "source": [
    "import os\n",
    "import subprocess\n",
    "from pathlib import Path\n",
    "\n",
    "END_WITH_LOCAL = 'characters-and-dialouges-association-in-comics'\n",
    "\n",
    "os.environ['PATH'] = f\"/root/.cargo/bin:{os.environ['PATH']}\"\n",
    "\n",
    "BASE_DIR = os.getcwd()\n",
    "print(f\"BASE_DIR: {BASE_DIR}\")\n",
    "\n",
    "# Simple validation\n",
    "if not (BASE_DIR.endswith('/content') or BASE_DIR.endswith(END_WITH_LOCAL)):\n",
    "    raise ValueError(f\"Expected to be in .../{END_WITH_LOCAL} or .../content directory, but got: {BASE_DIR}\")"
   ]
  },
  {
   "cell_type": "code",
   "execution_count": null,
   "id": "2754fb09",
   "metadata": {},
   "outputs": [],
   "source": [
    "import os\n",
    "import json\n",
    "import torch\n",
    "import cv2\n",
    "import numpy as np\n",
    "from tqdm import tqdm\n",
    "from mmdet.apis import init_detector, inference_detector"
   ]
  },
  {
   "cell_type": "code",
   "execution_count": null,
   "id": "03bef754",
   "metadata": {},
   "outputs": [],
   "source": [
    "import os\n",
    "os.environ[\"PYTORCH_ENABLE_MPS_FALLBACK\"] = \"1\"\n",
    "\n",
    "import torch\n",
    "if torch.cuda.is_available():\n",
    "    DEVICE = torch.device(\"cuda\")\n",
    "elif torch.backends.mps.is_available():\n",
    "    DEVICE = torch.device(\"mps\")\n",
    "else:\n",
    "    DEVICE = torch.device(\"cpu\")\n",
    "print(f\"Using device: {DEVICE}\")\n"
   ]
  },
  {
   "cell_type": "code",
   "execution_count": null,
   "id": "494f86a5",
   "metadata": {},
   "outputs": [],
   "source": [
    "NOTEBOOK_DIR = os.path.join(BASE_DIR, 'code', 'bubble-detection', 'SOLOv2')\n",
    "print(f\"NOTEBOOK_DIR: {NOTEBOOK_DIR}\")\n",
    "\n",
    "CONFIG_FILE = os.path.join(NOTEBOOK_DIR, 'solov2_r50_fpn_1x_coco.py')\n",
    "CHECKPOINT_FILE = os.path.join(NOTEBOOK_DIR, 'solov2_r50_fpn_1x_coco_20220512_125858-a357fa23.pth')\n",
    "\n",
    "# Thư mục chứa ảnh và annotation\n",
    "MANGA_ROOT = os.path.join(BASE_DIR,'data','Manga109_released_2023_12_07','images')\n",
    "ANNOTATION_ROOT = os.path.join(BASE_DIR,'data','MangaSegmentation','jsons')\n",
    "\n",
    "# Thư mục lưu kết quả\n",
    "OUTPUT_DIR = os.path.join(BASE_DIR,'output','solo_bubble_results')\n",
    "os.makedirs(OUTPUT_DIR, exist_ok=True)\n",
    "\n",
    "BUBBLE_ID = 5\n",
    "SCORE_THR = 0.5"
   ]
  },
  {
   "cell_type": "code",
   "execution_count": null,
   "id": "1d59496d",
   "metadata": {},
   "outputs": [],
   "source": [
    "print(\"🔹 Loading SOLOv2 model...\")\n",
    "model = init_detector(CONFIG_FILE, CHECKPOINT_FILE, device=DEVICE)\n",
    "print(\"✅ Model loaded!\")"
   ]
  },
  {
   "cell_type": "code",
   "execution_count": null,
   "id": "52ada81a",
   "metadata": {},
   "outputs": [],
   "source": [
    "json_files = sorted([f for f in os.listdir(ANNOTATION_ROOT) if f.endswith('.json')])\n",
    "print(f\"🔹 Found {len(json_files)} manga titles.\")\n",
    "\n",
    "for json_file in tqdm(json_files, desc=\"Processing manga titles\"):\n",
    "    json_path = os.path.join(ANNOTATION_ROOT, json_file)\n",
    "    manga_name = os.path.splitext(json_file)[0]\n",
    "    image_dir = os.path.join(MANGA_ROOT, manga_name)\n",
    "\n",
    "    if not os.path.exists(image_dir):\n",
    "        print(f\"⚠️ Skipping {manga_name} (no image folder found).\")\n",
    "        continue\n",
    "\n",
    "    # Load annotation\n",
    "    with open(json_path, 'r') as f:\n",
    "        data = json.load(f)\n",
    "\n",
    "    # Lọc các annotation có category_id = 5 (bubble)\n",
    "    bubble_annotations = [ann for ann in data[\"annotations\"] if ann[\"category_id\"] == BUBBLE_ID]\n",
    "    image_map = {img[\"id\"]: img[\"file_name\"] for img in data[\"images\"]}\n",
    "\n",
    "    # Tạo folder output riêng cho từng manga\n",
    "    manga_output = os.path.join(OUTPUT_DIR, manga_name)\n",
    "    os.makedirs(manga_output, exist_ok=True)\n",
    "\n",
    "    # -------------------------------\n",
    "    # 4. Inference từng ảnh có bubble\n",
    "    # -------------------------------\n",
    "    seen_images = set()\n",
    "\n",
    "    for ann in bubble_annotations:\n",
    "        img_file = image_map.get(ann[\"image_id\"])\n",
    "        if img_file in seen_images:\n",
    "            continue\n",
    "        seen_images.add(img_file)\n",
    "\n",
    "        img_path = os.path.join(image_dir, img_file)\n",
    "        if not os.path.exists(img_path):\n",
    "            continue\n",
    "\n",
    "        # Chạy SOLOv2 inference\n",
    "        result = inference_detector(model, img_path)\n",
    "\n",
    "        # Xuất kết quả ảnh có mask overlay\n",
    "        save_path = os.path.join(manga_output, os.path.basename(img_path))\n",
    "        try:\n",
    "            model.show_result(img_path, result, out_file=save_path, score_thr=SCORE_THR)\n",
    "        except Exception as e:\n",
    "            print(f\"⚠️ Error on {img_file}: {e}\")\n",
    "\n",
    "print(f\"🎉 Inference done! All results saved in: {OUTPUT_DIR}\")"
   ]
  }
 ],
 "metadata": {
  "kernelspec": {
   "display_name": "py11",
   "language": "python",
   "name": "python3"
  },
  "language_info": {
   "codemirror_mode": {
    "name": "ipython",
    "version": 3
   },
   "file_extension": ".py",
   "mimetype": "text/x-python",
   "name": "python",
   "nbconvert_exporter": "python",
   "pygments_lexer": "ipython3",
   "version": "3.11.13"
  }
 },
 "nbformat": 4,
 "nbformat_minor": 5
}
